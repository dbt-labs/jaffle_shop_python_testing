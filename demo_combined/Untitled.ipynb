{
 "cells": [
  {
   "cell_type": "code",
   "execution_count": null,
   "metadata": {},
   "outputs": [],
   "source": [
    "print(\"hello world\")"
   ]
  },
  {
   "cell_type": "code",
   "execution_count": null,
   "metadata": {},
   "outputs": [],
   "source": [
    "for i in range(10):\n",
    "    # % is the modulus (remainder) operator\n",
    "    # 10 % 3 = 1\n",
    "    # 10 % 2 = 0\n",
    "    # 10 % 4 = 2\n",
    "    # so this if statement prints even numbers\n",
    "    if i % 2 == 0:\n",
    "        print(i)"
   ]
  },
  {
   "cell_type": "markdown",
   "metadata": {},
   "source": [
    "# Aaron's demo\n",
    "\n",
    "Run a dbt Cloud job from a Python notebook kicked off via Databricks API in a Python model that returns no real data.\n",
    "\n",
    "https://www.loom.com/share/f649bc7dcb244d548269d4c1804e8db2 "
   ]
  },
  {
   "cell_type": "markdown",
   "metadata": {},
   "source": [
    "## What happens when you `dbt run`?\n",
    "\n",
    "1. The Python model code is compiled into the `target/` directory, just like SQL.\n",
    "\n",
    "2. The code is shipped off and executed in the warehouse, just like SQL.\n",
    "\n",
    "3. The Python code executes -- `dbutils.notebook.run(notebook, 600)` runs an existing notebook in the Databricks workspace\n",
    "\n",
    "4. That notebook uses a secret for a dbt Cloud credential and makes an API request to execute a dbt Cloud job"
   ]
  },
  {
   "cell_type": "code",
   "execution_count": null,
   "metadata": {},
   "outputs": [],
   "source": [
    "# models/run_notebook.py in dbt project\n",
    "\n",
    "\n",
    "def model(dbt, session):\n",
    "\n",
    "    dbt.config(materialized=\"table\")\n",
    "\n",
    "    notebook = \"linked_notebook_test\"\n",
    "    dbutils.notebook.run(notebook, 600)\n",
    "    # this could be replaced with something like:\n",
    "    # os.system(\"pip install --upgrade papermill\")\n",
    "    # os.system(f\"papermill {notebook} -k python -\")\n",
    "\n",
    "    df = session.sql(\n",
    "        \"\"\"\n",
    "        select \n",
    "            'snowflake_dbt_job_notebook' as notebook_triggered,\n",
    "            current_timestamp() as runtime\n",
    "        \"\"\"\n",
    "    )\n",
    "\n",
    "    return df"
   ]
  },
  {
   "cell_type": "code",
   "execution_count": null,
   "metadata": {},
   "outputs": [],
   "source": [
    "# linked_notebook_test.ipynb in Databricks workspace\n",
    "\n",
    "import os  # built-in Python module\n",
    "import requests  # installed with `pip install requests`\n",
    "\n",
    "from datetime import datetime  # built-in Python module\n",
    "\n",
    "DBT_ACCOUNT_ID = 1\n",
    "DBT_JOB_ID = 2\n",
    "\n",
    "DBT_API_KEY = os.environ.get(\"API_KEY\")\n",
    "\n",
    "r = requests.post(\n",
    "    url=f\"https://cloud.getdbt.com/api/v2/accounts/{DBT_ACCOUNT_ID}/jobs/{DBT_JOB_ID}/run\",\n",
    "    headers={\"Authorization\": f\"Token {DBT_API_KEY}\"},\n",
    "    json={\n",
    "        \"cause\": f\"Triggered by a Python notebook triggered by a dbt Python model at {datetime.now()}\"\n",
    "    },\n",
    ")\n",
    "\n",
    "r.json()"
   ]
  },
  {
   "cell_type": "markdown",
   "metadata": {},
   "source": [
    "## How I (almost) solved a difficult problem\n",
    "\n",
    "Trying to replicate `orders.sql` to `orders.py`."
   ]
  },
  {
   "cell_type": "code",
   "execution_count": 3,
   "metadata": {},
   "outputs": [
    {
     "name": "stdout",
     "output_type": "stream",
     "text": [
      "{% set payment_methods = ['credit_card', 'coupon', 'bank_transfer', 'gift_card'] %}\n",
      "\n",
      "select\n",
      "    order_id,\n",
      "\n",
      "    {% for payment_method in payment_methods -%}\n",
      "    sum(case when payment_method = '{{ payment_method }}' then amount else 0 end) as {{ payment_method }}_amount,\n",
      "    {% endfor -%}\n",
      "\n",
      "    sum(amount) as total_amount\n",
      "\n",
      "from payments\n",
      "\n",
      "group by order_id\n"
     ]
    }
   ],
   "source": [
    "# from orders.sql in jaffle_shop/models; parts cut out for brevity\n",
    "\n",
    "sql = \"\"\"\n",
    "{% set payment_methods = ['credit_card', 'coupon', 'bank_transfer', 'gift_card'] %}\n",
    "\n",
    "select\n",
    "    order_id,\n",
    "\n",
    "    {% for payment_method in payment_methods -%}\n",
    "    sum(case when payment_method = '{{ payment_method }}' then amount else 0 end) as {{ payment_method }}_amount,\n",
    "    {% endfor -%}\n",
    "\n",
    "    sum(amount) as total_amount\n",
    "\n",
    "from payments\n",
    "\n",
    "group by order_id\n",
    "\"\"\".strip()\n",
    "\n",
    "print(sql)"
   ]
  },
  {
   "cell_type": "code",
   "execution_count": 8,
   "metadata": {},
   "outputs": [
    {
     "name": "stdout",
     "output_type": "stream",
     "text": [
      "select\n",
      "\n",
      "        order_id,\n",
      "\n",
      "\tsum(case when payment_method = credit_card then amount else 0 end) as credit_card_amount,\n",
      "\tsum(case when payment_method = coupon then amount else 0 end) as coupon_amount,\n",
      "\tsum(case when payment_method = bank_transfer then amount else 0 end) as bank_transfer_amount,\n",
      "\tsum(case when payment_method = gift_card then amount else 0 end) as gift_card_amount,\n",
      "\n",
      "        sum(amount) as total_amount\n",
      "\n",
      "    from payments\n",
      "\n",
      "    group by order_id\n"
     ]
    }
   ],
   "source": [
    "py_sql_prefix = \"\"\"\n",
    "    select\n",
    "\n",
    "        order_id,\n",
    "        sum(amount) as total_amount,\n",
    "\n",
    "\"\"\".lstrip()\n",
    "\n",
    "py_sql_postfix = \"\"\"\n",
    "\n",
    "    from payments\n",
    "\n",
    "    group by order_id\n",
    "\"\"\".rstrip()\n",
    "\n",
    "payment_methods = [\"credit_card\", \"coupon\", \"bank_transfer\", \"gift_card\"]\n",
    "\n",
    "py_sql_middle = \"\"\n",
    "\n",
    "for payment_method in payment_methods:\n",
    "    py_sql_middle += f\"\\tsum(case when payment_method = {payment_method} then amount else 0 end) as {payment_method}_amount,\\n\"\n",
    "\n",
    "py_sql_middle = py_sql_middle.rstrip(\",\\n\") + \"\\n\"\n",
    "\n",
    "py_sql = py_sql_prefix + py_sql_middle + py_sql_postfix\n",
    "\n",
    "print(py_sql)"
   ]
  },
  {
   "cell_type": "code",
   "execution_count": null,
   "metadata": {},
   "outputs": [],
   "source": [
    "df.select(py_sql)"
   ]
  },
  {
   "cell_type": "code",
   "execution_count": null,
   "metadata": {},
   "outputs": [],
   "source": []
  },
  {
   "cell_type": "code",
   "execution_count": null,
   "metadata": {},
   "outputs": [],
   "source": []
  },
  {
   "cell_type": "code",
   "execution_count": null,
   "metadata": {},
   "outputs": [],
   "source": []
  },
  {
   "cell_type": "code",
   "execution_count": null,
   "metadata": {},
   "outputs": [],
   "source": []
  },
  {
   "cell_type": "code",
   "execution_count": null,
   "metadata": {},
   "outputs": [],
   "source": [
    "# tracking\n",
    "import mlflow\n",
    "\n",
    "# pydata/ml\n",
    "import sklearn as sklearn\n",
    "\n",
    "import numpy as np\n",
    "import pandas as pd\n",
    "import lightgbm as lgb\n",
    "\n",
    "from sklearn.decomposition import PCA\n",
    "from sklearn.model_selection import train_test_split\n",
    "\n",
    "# viz\n",
    "import seaborn as sns\n",
    "import matplotlib as mpl\n",
    "import matplotlib.pyplot as plt\n",
    "\n",
    "# snowflake\n",
    "import yaml\n",
    "import snowflake.snowpark\n",
    "\n",
    "from snowflake.snowpark import types\n",
    "from snowflake.snowpark import Session\n",
    "from snowflake.snowpark.functions import col, udf, sql_expr"
   ]
  },
  {
   "cell_type": "code",
   "execution_count": null,
   "metadata": {},
   "outputs": [],
   "source": [
    "# setup viz defaults\n",
    "sns.set_theme()\n",
    "sns.set(rc={\"figure.figsize\": (16, 18)})\n",
    "sns.set_style(\"darkgrid\")\n",
    "plt.style.use([\"dark_background\"])"
   ]
  },
  {
   "cell_type": "code",
   "execution_count": null,
   "metadata": {},
   "outputs": [],
   "source": [
    "with open(\"/home/vscode/.dbt/profiles.yml\", \"r\") as f:\n",
    "    profiles = yaml.safe_load(f)\n",
    "    dev_profile = profiles[\"snowflake\"][\"outputs\"][\"dev\"]\n",
    "\n",
    "conn_params = {\n",
    "    \"account\": dev_profile[\"account\"],\n",
    "    \"user\": dev_profile[\"user\"],\n",
    "    \"role\": dev_profile[\"role\"],\n",
    "    \"warehouse\": dev_profile[\"warehouse\"],\n",
    "    \"database\": dev_profile[\"database\"],\n",
    "    \"schema\": dev_profile[\"schema\"],\n",
    "    \"authenticator\": dev_profile[\"authenticator\"],\n",
    "}\n",
    "conn_params"
   ]
  },
  {
   "cell_type": "code",
   "execution_count": null,
   "metadata": {},
   "outputs": [],
   "source": [
    "s = Session.builder.configs(conn_params).create()"
   ]
  },
  {
   "cell_type": "code",
   "execution_count": null,
   "metadata": {},
   "outputs": [],
   "source": [
    "%%time\n",
    "\n",
    "model = \"raw_customers\"\n",
    "\n",
    "df = s.table(model)\n",
    "\n",
    "df.show(5)"
   ]
  },
  {
   "cell_type": "code",
   "execution_count": null,
   "metadata": {},
   "outputs": [],
   "source": [
    "import logging\n",
    "\n",
    "for logger_name in (\"snowflake.snowpark\", \"snowflake.connector\"):\n",
    "    logger = logging.getLogger(logger_name)\n",
    "    logger.setLevel(logging.DEBUG)\n",
    "    ch = logging.StreamHandler()\n",
    "    ch.setLevel(logging.DEBUG)\n",
    "    ch.setFormatter(\n",
    "        logging.Formatter(\n",
    "            \"%(asctime)s - %(threadName)s %(filename)s:%(lineno)d - %(funcName)s() - %(levelname)s - %(message)s\"\n",
    "        )\n",
    "    )\n",
    "    logger.addHandler(ch)\n",
    "\n",
    "df.to_pandas()"
   ]
  },
  {
   "cell_type": "code",
   "execution_count": null,
   "metadata": {},
   "outputs": [],
   "source": []
  },
  {
   "cell_type": "code",
   "execution_count": null,
   "metadata": {},
   "outputs": [],
   "source": []
  },
  {
   "cell_type": "code",
   "execution_count": null,
   "metadata": {},
   "outputs": [],
   "source": []
  },
  {
   "cell_type": "code",
   "execution_count": null,
   "metadata": {},
   "outputs": [],
   "source": []
  },
  {
   "cell_type": "code",
   "execution_count": null,
   "metadata": {},
   "outputs": [],
   "source": []
  },
  {
   "cell_type": "code",
   "execution_count": null,
   "metadata": {},
   "outputs": [],
   "source": [
    "%%time\n",
    "\n",
    "model = \"customers\"\n",
    "\n",
    "df = s.table(model)\n",
    "df"
   ]
  },
  {
   "cell_type": "code",
   "execution_count": null,
   "metadata": {},
   "outputs": [],
   "source": [
    "df.show()"
   ]
  },
  {
   "cell_type": "code",
   "execution_count": null,
   "metadata": {},
   "outputs": [],
   "source": [
    "# dare to dance with the devil?\n",
    "# df = df.toPandas()\n",
    "# df = df.to_pandas()"
   ]
  }
 ],
 "metadata": {
  "kernelspec": {
   "display_name": "Python 3.8.13 64-bit",
   "language": "python",
   "name": "python3"
  },
  "language_info": {
   "codemirror_mode": {
    "name": "ipython",
    "version": 3
   },
   "file_extension": ".py",
   "mimetype": "text/x-python",
   "name": "python",
   "nbconvert_exporter": "python",
   "pygments_lexer": "ipython3",
   "version": "3.8.13"
  },
  "orig_nbformat": 4,
  "vscode": {
   "interpreter": {
    "hash": "949777d72b0d2535278d3dc13498b2535136f6dfe0678499012e853ee9abcab1"
   }
  }
 },
 "nbformat": 4,
 "nbformat_minor": 2
}
