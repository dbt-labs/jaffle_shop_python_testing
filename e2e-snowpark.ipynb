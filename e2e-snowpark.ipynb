{
 "cells": [
  {
   "cell_type": "markdown",
   "metadata": {},
   "source": [
    "# End-to-end Snowpark jaffle_shop in Python\n",
    "\n",
    "For funsies."
   ]
  },
  {
   "cell_type": "markdown",
   "metadata": {},
   "source": [
    "## Imports"
   ]
  },
  {
   "cell_type": "code",
   "execution_count": 1,
   "metadata": {},
   "outputs": [],
   "source": [
    "# tracking\n",
    "import mlflow\n",
    "\n",
    "# pydata/ml\n",
    "import sklearn as sklearn\n",
    "\n",
    "import numpy as np\n",
    "import pandas as pd\n",
    "import lightgbm as lgb\n",
    "\n",
    "from sklearn.decomposition import PCA\n",
    "from sklearn.model_selection import train_test_split\n",
    "\n",
    "# viz\n",
    "import seaborn as sns\n",
    "import matplotlib as mpl\n",
    "import matplotlib.pyplot as plt\n",
    "\n",
    "# snowflake\n",
    "import yaml\n",
    "import snowflake.snowpark\n",
    "\n",
    "from snowflake.snowpark import types\n",
    "from snowflake.snowpark import Session\n",
    "from snowflake.snowpark.functions import col, udf, sql_expr"
   ]
  },
  {
   "cell_type": "markdown",
   "metadata": {},
   "source": [
    "## Setup"
   ]
  },
  {
   "cell_type": "code",
   "execution_count": 2,
   "metadata": {},
   "outputs": [],
   "source": [
    "# setup viz defaults\n",
    "sns.set_theme()\n",
    "sns.set(rc={\"figure.figsize\": (16, 18)})\n",
    "sns.set_style(\"darkgrid\")\n",
    "plt.style.use([\"dark_background\"])"
   ]
  },
  {
   "cell_type": "markdown",
   "metadata": {},
   "source": [
    "## Snowpark session"
   ]
  },
  {
   "cell_type": "code",
   "execution_count": 3,
   "metadata": {},
   "outputs": [
    {
     "data": {
      "text/plain": [
       "{'account': 'ska67070',\n",
       " 'user': 'cody.peterson@fishtownanalytics.com',\n",
       " 'role': 'transformer',\n",
       " 'warehouse': 'transforming',\n",
       " 'database': 'analytics',\n",
       " 'schema': 'dbt_cody',\n",
       " 'authenticator': 'externalbrowser'}"
      ]
     },
     "execution_count": 3,
     "metadata": {},
     "output_type": "execute_result"
    }
   ],
   "source": [
    "with open(\"/home/vscode/.dbt/profiles.yml\", \"r\") as f:\n",
    "    profiles = yaml.safe_load(f)\n",
    "    dev_profile = profiles[\"snowflake\"][\"outputs\"][\"dev\"]\n",
    "\n",
    "conn_params = {\n",
    "    \"account\": dev_profile[\"account\"],\n",
    "    \"user\": dev_profile[\"user\"],\n",
    "    \"role\": dev_profile[\"role\"],\n",
    "    \"warehouse\": dev_profile[\"warehouse\"],\n",
    "    \"database\": dev_profile[\"database\"],\n",
    "    \"schema\": dev_profile[\"schema\"],\n",
    "    \"authenticator\": dev_profile[\"authenticator\"],\n",
    "}\n",
    "conn_params"
   ]
  },
  {
   "cell_type": "code",
   "execution_count": 4,
   "metadata": {},
   "outputs": [
    {
     "name": "stdout",
     "output_type": "stream",
     "text": [
      "Initiating login request with your identity provider. A browser window should have opened for you to complete the login. If you can't see it, check existing browser windows, or your OS settings. Press CTRL+C to abort and try again...\n"
     ]
    }
   ],
   "source": [
    "s = Session.builder.configs(conn_params).create()"
   ]
  },
  {
   "cell_type": "markdown",
   "metadata": {},
   "source": [
    "## Raw data (sources)"
   ]
  },
  {
   "cell_type": "code",
   "execution_count": 5,
   "metadata": {},
   "outputs": [
    {
     "name": "stdout",
     "output_type": "stream",
     "text": [
      "-------------------------------------\n",
      "|\"ID\"  |\"FIRST_NAME\"  |\"LAST_NAME\"  |\n",
      "-------------------------------------\n",
      "|1     |Michael       |P.           |\n",
      "|2     |Shawn         |M.           |\n",
      "|3     |Kathleen      |P.           |\n",
      "|4     |Jimmy         |C.           |\n",
      "|5     |Katherine     |R.           |\n",
      "-------------------------------------\n",
      "\n"
     ]
    }
   ],
   "source": [
    "raw_customers = s.table(\"raw_customers\")\n",
    "raw_customers.show(5)"
   ]
  },
  {
   "cell_type": "code",
   "execution_count": 6,
   "metadata": {},
   "outputs": [
    {
     "name": "stdout",
     "output_type": "stream",
     "text": [
      "-----------------------------------------------\n",
      "|\"ID\"  |\"USER_ID\"  |\"ORDER_DATE\"  |\"STATUS\"   |\n",
      "-----------------------------------------------\n",
      "|1     |1          |2018-01-01    |returned   |\n",
      "|2     |3          |2018-01-02    |completed  |\n",
      "|3     |94         |2018-01-04    |completed  |\n",
      "|4     |50         |2018-01-05    |completed  |\n",
      "|5     |64         |2018-01-05    |completed  |\n",
      "-----------------------------------------------\n",
      "\n"
     ]
    }
   ],
   "source": [
    "raw_orders = s.table(\"raw_orders\")\n",
    "raw_orders.show(5)"
   ]
  },
  {
   "cell_type": "code",
   "execution_count": 7,
   "metadata": {},
   "outputs": [
    {
     "name": "stdout",
     "output_type": "stream",
     "text": [
      "---------------------------------------------------\n",
      "|\"ID\"  |\"ORDER_ID\"  |\"PAYMENT_METHOD\"  |\"AMOUNT\"  |\n",
      "---------------------------------------------------\n",
      "|1     |1           |credit_card       |1000      |\n",
      "|2     |2           |credit_card       |2000      |\n",
      "|3     |3           |coupon            |100       |\n",
      "|4     |4           |coupon            |2500      |\n",
      "|5     |5           |bank_transfer     |1700      |\n",
      "---------------------------------------------------\n",
      "\n"
     ]
    }
   ],
   "source": [
    "raw_payments = s.table(\"raw_payments\")\n",
    "raw_payments.show(5)"
   ]
  },
  {
   "cell_type": "markdown",
   "metadata": {},
   "source": [
    "## Staging data"
   ]
  },
  {
   "cell_type": "code",
   "execution_count": 8,
   "metadata": {},
   "outputs": [
    {
     "name": "stdout",
     "output_type": "stream",
     "text": [
      "----------------------------------------------\n",
      "|\"CUSTOMER_ID\"  |\"FIRST_NAME\"  |\"LAST_NAME\"  |\n",
      "----------------------------------------------\n",
      "|1              |Michael       |P.           |\n",
      "|2              |Shawn         |M.           |\n",
      "|3              |Kathleen      |P.           |\n",
      "|4              |Jimmy         |C.           |\n",
      "|5              |Katherine     |R.           |\n",
      "----------------------------------------------\n",
      "\n"
     ]
    }
   ],
   "source": [
    "customers_rename = {\"id\": \"customer_id\"}\n",
    "customers_rename = {\n",
    "    key.upper(): value.upper() for key, value in customers_rename.items()\n",
    "}  # snowpark\n",
    "\n",
    "# stg_customers = raw_customers.rename(customers_rename) # pandas\n",
    "\n",
    "# Option A\n",
    "# stg_customers = raw_customers.select(\n",
    "#     *[\n",
    "#         col(col_name).as_(customers_rename[col_name])\n",
    "#         if col_name in customers_rename\n",
    "#         else col_name\n",
    "#         for col_name in raw_customers.schema.names\n",
    "#     ]\n",
    "# )\n",
    "\n",
    "stg_customers = raw_customers.select(\"*\")\n",
    "for col_name in customers_rename:\n",
    "    stg_customers = stg_customers.rename(\n",
    "        stg_customers[col_name], customers_rename[col_name]\n",
    "    )\n",
    "\n",
    "stg_customers.show(5)"
   ]
  },
  {
   "cell_type": "code",
   "execution_count": 9,
   "metadata": {},
   "outputs": [
    {
     "name": "stdout",
     "output_type": "stream",
     "text": [
      "---------------------------------------------------------\n",
      "|\"ORDER_ID\"  |\"CUSTOMER_ID\"  |\"ORDER_DATE\"  |\"STATUS\"   |\n",
      "---------------------------------------------------------\n",
      "|1           |1              |2018-01-01    |returned   |\n",
      "|2           |3              |2018-01-02    |completed  |\n",
      "|3           |94             |2018-01-04    |completed  |\n",
      "|4           |50             |2018-01-05    |completed  |\n",
      "|5           |64             |2018-01-05    |completed  |\n",
      "---------------------------------------------------------\n",
      "\n"
     ]
    }
   ],
   "source": [
    "orders_rename = {\"id\": \"order_id\", \"user_id\": \"customer_id\"}\n",
    "orders_rename = {\n",
    "    key.upper(): value.upper() for key, value in orders_rename.items()\n",
    "}  # snowpark\n",
    "\n",
    "# stg_orders = raw_orders.rename(columns=orders_rename) # pandas\n",
    "# Option A\n",
    "# stg_orders = raw_orders.select(\n",
    "#     *[\n",
    "#         col(col_name).as_(orders_rename[col_name])\n",
    "#         if col_name in orders_rename\n",
    "#         else col_name\n",
    "#         for col_name in raw_orders.schema.names\n",
    "#     ]\n",
    "# )\n",
    "stg_orders = raw_orders.select(\"*\")\n",
    "for col_name in orders_rename:\n",
    "    stg_orders = stg_orders.rename(stg_orders[col_name], orders_rename[col_name])\n",
    "\n",
    "stg_orders.show(5)"
   ]
  },
  {
   "cell_type": "code",
   "execution_count": 10,
   "metadata": {},
   "outputs": [
    {
     "name": "stdout",
     "output_type": "stream",
     "text": [
      "------------------------------------------------------------\n",
      "|\"PAYMENT_ID\"  |\"ORDER_ID\"  |\"PAYMENT_METHOD\"  |\"AMOUNT\"   |\n",
      "------------------------------------------------------------\n",
      "|1             |1           |credit_card       |10.000000  |\n",
      "|2             |2           |credit_card       |20.000000  |\n",
      "|3             |3           |coupon            |1.000000   |\n",
      "|4             |4           |coupon            |25.000000  |\n",
      "|5             |5           |bank_transfer     |17.000000  |\n",
      "------------------------------------------------------------\n",
      "\n"
     ]
    }
   ],
   "source": [
    "payments_rename = {\"id\": \"payment_id\"}\n",
    "payments_rename = {\n",
    "    key.upper(): value.upper() for key, value in payments_rename.items()\n",
    "}  # snowpark\n",
    "\n",
    "# stg_payments = raw_payments.rename(columns=payments_rename) # pandas\n",
    "# stg_payments[\"amount\"] /= 100  # this makes cents into dollars\n",
    "\n",
    "stg_payments = raw_payments.select(\n",
    "    *[\n",
    "        col(col_name).as_(payments_rename[col_name])\n",
    "        if col_name in payments_rename\n",
    "        else col_name\n",
    "        for col_name in raw_payments.schema.names\n",
    "        if col_name != \"AMOUNT\"\n",
    "    ],\n",
    "    (raw_payments[\"amount\"] / 100).as_(\"amount\"),\n",
    ")\n",
    "\n",
    "stg_payments.show(5)"
   ]
  },
  {
   "cell_type": "markdown",
   "metadata": {},
   "source": [
    "## Final models"
   ]
  },
  {
   "cell_type": "code",
   "execution_count": 11,
   "metadata": {},
   "outputs": [
    {
     "name": "stdout",
     "output_type": "stream",
     "text": [
      "-----------------------------------------------------------------------------\n",
      "|\"CUSTOMER_ID\"  |\"MIN(ORDER_DATE)\"  |\"MAX(ORDER_DATE)\"  |\"COUNT(ORDER_ID)\"  |\n",
      "-----------------------------------------------------------------------------\n",
      "|1              |2018-01-01         |2018-02-10         |2                  |\n",
      "|3              |2018-01-02         |2018-03-11         |3                  |\n",
      "|94             |2018-01-04         |2018-01-29         |2                  |\n",
      "|64             |2018-01-05         |2018-01-20         |2                  |\n",
      "|54             |2018-01-07         |2018-03-24         |5                  |\n",
      "-----------------------------------------------------------------------------\n",
      "\n"
     ]
    }
   ],
   "source": [
    "# pandas\n",
    "# customer_orders = (\n",
    "#     stg_orders.groupby(\"customer_id\")\n",
    "#     .agg(\n",
    "#         first_order=(\"order_date\", \"min\"),\n",
    "#         most_recent_order=(\"order_date\", \"max\"),\n",
    "#         number_of_orders=(\"order_id\", \"count\"),\n",
    "#     )\n",
    "#     .reset_index()\n",
    "# )\n",
    "\n",
    "customer_orders = stg_orders.group_by(\"customer_id\").agg(\n",
    "    [\n",
    "        (stg_orders[\"order_date\"], \"min\"),\n",
    "        (stg_orders[\"order_date\"], \"max\"),\n",
    "        (stg_orders[\"order_id\"], \"count\"),\n",
    "    ]\n",
    ")\n",
    "\n",
    "customer_orders.show(5)"
   ]
  },
  {
   "cell_type": "code",
   "execution_count": 12,
   "metadata": {},
   "outputs": [
    {
     "name": "stdout",
     "output_type": "stream",
     "text": [
      "---------------------------------------------------------\n",
      "|\"ORDER_ID\"  |\"CUSTOMER_ID\"  |\"ORDER_DATE\"  |\"STATUS\"   |\n",
      "---------------------------------------------------------\n",
      "|1           |1              |2018-01-01    |returned   |\n",
      "|2           |3              |2018-01-02    |completed  |\n",
      "|3           |94             |2018-01-04    |completed  |\n",
      "|4           |50             |2018-01-05    |completed  |\n",
      "|5           |64             |2018-01-05    |completed  |\n",
      "---------------------------------------------------------\n",
      "\n"
     ]
    }
   ],
   "source": [
    "stg_orders.show(5)"
   ]
  },
  {
   "cell_type": "code",
   "execution_count": 13,
   "metadata": {},
   "outputs": [
    {
     "name": "stdout",
     "output_type": "stream",
     "text": [
      "---------------------------------\n",
      "|\"CUSTOMER_ID\"  |\"SUM(AMOUNT)\"  |\n",
      "---------------------------------\n",
      "|1              |33.000000      |\n",
      "|3              |65.000000      |\n",
      "|94             |24.000000      |\n",
      "|50             |47.000000      |\n",
      "|64             |30.000000      |\n",
      "---------------------------------\n",
      "\n"
     ]
    }
   ],
   "source": [
    "# pandas\n",
    "# customer_payments = (\n",
    "#     stg_payments.merge(stg_orders, on=\"order_id\", how=\"left\")\n",
    "#     .groupby(\"customer_id\")\n",
    "#     .agg(stg_orders[\"amount\"], \"sum\")\n",
    "# )\n",
    "customer_payments = (\n",
    "    stg_payments.join(stg_orders, using_columns=[\"order_id\"], join_type=\"left\")\n",
    "    .group_by(\"customer_id\")\n",
    "    .agg(\n",
    "        [\n",
    "            (stg_payments[\"amount\"], \"sum\"),\n",
    "        ]\n",
    "    )\n",
    ")\n",
    "\n",
    "customer_payments.show(5)"
   ]
  },
  {
   "cell_type": "code",
   "execution_count": 17,
   "metadata": {},
   "outputs": [
    {
     "ename": "SnowparkColumnException",
     "evalue": "(1105): The DataFrame does not contain the column named TOTAL_AMOUNT.",
     "output_type": "error",
     "traceback": [
      "\u001b[0;31m---------------------------------------------------------------------------\u001b[0m",
      "\u001b[0;31mSnowparkColumnException\u001b[0m                   Traceback (most recent call last)",
      "\u001b[1;32m/workspaces/codyspace/jaffle_shop_python_testing/e2e-snowpark.ipynb Cell 21\u001b[0m in \u001b[0;36m<cell line: 11>\u001b[0;34m()\u001b[0m\n\u001b[1;32m      <a href='vscode-notebook-cell://codespaces%2Blostmygithubaccount-codyspace-grxxp5prvg5hpv5r/workspaces/codyspace/jaffle_shop_python_testing/e2e-snowpark.ipynb#X26sdnNjb2RlLXJlbW90ZQ%3D%3D?line=6'>7</a>\u001b[0m customers \u001b[39m=\u001b[39m (\n\u001b[1;32m      <a href='vscode-notebook-cell://codespaces%2Blostmygithubaccount-codyspace-grxxp5prvg5hpv5r/workspaces/codyspace/jaffle_shop_python_testing/e2e-snowpark.ipynb#X26sdnNjb2RlLXJlbW90ZQ%3D%3D?line=7'>8</a>\u001b[0m     stg_customers\u001b[39m.\u001b[39mjoin(customer_orders, stg_customers[\u001b[39m\"\u001b[39m\u001b[39mcustomer_id\u001b[39m\u001b[39m\"\u001b[39m]  \u001b[39m==\u001b[39m customer_orders[\u001b[39m\"\u001b[39m\u001b[39mcustomer_id\u001b[39m\u001b[39m\"\u001b[39m])\n\u001b[1;32m      <a href='vscode-notebook-cell://codespaces%2Blostmygithubaccount-codyspace-grxxp5prvg5hpv5r/workspaces/codyspace/jaffle_shop_python_testing/e2e-snowpark.ipynb#X26sdnNjb2RlLXJlbW90ZQ%3D%3D?line=8'>9</a>\u001b[0m     \u001b[39m.\u001b[39mjoin(customer_payments, stg_customers[\u001b[39m\"\u001b[39m\u001b[39mcustomer_id\u001b[39m\u001b[39m\"\u001b[39m] \u001b[39m==\u001b[39m customer_payments[\u001b[39m\"\u001b[39m\u001b[39mcustomer_id\u001b[39m\u001b[39m\"\u001b[39m])\n\u001b[1;32m     <a href='vscode-notebook-cell://codespaces%2Blostmygithubaccount-codyspace-grxxp5prvg5hpv5r/workspaces/codyspace/jaffle_shop_python_testing/e2e-snowpark.ipynb#X26sdnNjb2RlLXJlbW90ZQ%3D%3D?line=9'>10</a>\u001b[0m )\n\u001b[1;32m     <a href='vscode-notebook-cell://codespaces%2Blostmygithubaccount-codyspace-grxxp5prvg5hpv5r/workspaces/codyspace/jaffle_shop_python_testing/e2e-snowpark.ipynb#X26sdnNjb2RlLXJlbW90ZQ%3D%3D?line=10'>11</a>\u001b[0m \u001b[39mfor\u001b[39;00m col_name \u001b[39min\u001b[39;00m customers_rename:\n\u001b[0;32m---> <a href='vscode-notebook-cell://codespaces%2Blostmygithubaccount-codyspace-grxxp5prvg5hpv5r/workspaces/codyspace/jaffle_shop_python_testing/e2e-snowpark.ipynb#X26sdnNjb2RlLXJlbW90ZQ%3D%3D?line=11'>12</a>\u001b[0m     customers \u001b[39m=\u001b[39m customers\u001b[39m.\u001b[39mrename(customers[col_name], customers_rename[col_name])\n\u001b[1;32m     <a href='vscode-notebook-cell://codespaces%2Blostmygithubaccount-codyspace-grxxp5prvg5hpv5r/workspaces/codyspace/jaffle_shop_python_testing/e2e-snowpark.ipynb#X26sdnNjb2RlLXJlbW90ZQ%3D%3D?line=13'>14</a>\u001b[0m customers\u001b[39m.\u001b[39mshow(\u001b[39m5\u001b[39m)\n",
      "File \u001b[0;32m~/.local/lib/python3.8/site-packages/snowflake/snowpark/dataframe.py:640\u001b[0m, in \u001b[0;36mDataFrame.__getitem__\u001b[0;34m(self, item)\u001b[0m\n\u001b[1;32m    638\u001b[0m \u001b[39mdef\u001b[39;00m \u001b[39m__getitem__\u001b[39m(\u001b[39mself\u001b[39m, item):\n\u001b[1;32m    639\u001b[0m     \u001b[39mif\u001b[39;00m \u001b[39misinstance\u001b[39m(item, \u001b[39mstr\u001b[39m):\n\u001b[0;32m--> 640\u001b[0m         \u001b[39mreturn\u001b[39;00m \u001b[39mself\u001b[39;49m\u001b[39m.\u001b[39;49mcol(item)\n\u001b[1;32m    641\u001b[0m     \u001b[39melif\u001b[39;00m \u001b[39misinstance\u001b[39m(item, Column):\n\u001b[1;32m    642\u001b[0m         \u001b[39mreturn\u001b[39;00m \u001b[39mself\u001b[39m\u001b[39m.\u001b[39mfilter(item)\n",
      "File \u001b[0;32m~/.local/lib/python3.8/site-packages/snowflake/snowpark/dataframe.py:681\u001b[0m, in \u001b[0;36mDataFrame.col\u001b[0;34m(self, col_name)\u001b[0m\n\u001b[1;32m    679\u001b[0m     \u001b[39mreturn\u001b[39;00m Column(Star(\u001b[39mself\u001b[39m\u001b[39m.\u001b[39m_plan\u001b[39m.\u001b[39moutput))\n\u001b[1;32m    680\u001b[0m \u001b[39melse\u001b[39;00m:\n\u001b[0;32m--> 681\u001b[0m     \u001b[39mreturn\u001b[39;00m Column(\u001b[39mself\u001b[39;49m\u001b[39m.\u001b[39;49m_resolve(col_name))\n",
      "File \u001b[0;32m~/.local/lib/python3.8/site-packages/snowflake/snowpark/dataframe.py:2766\u001b[0m, in \u001b[0;36mDataFrame._resolve\u001b[0;34m(self, col_name)\u001b[0m\n\u001b[1;32m   2764\u001b[0m     \u001b[39mreturn\u001b[39;00m cols[\u001b[39m0\u001b[39m]\u001b[39m.\u001b[39mwith_name(normalized_col_name)\n\u001b[1;32m   2765\u001b[0m \u001b[39melse\u001b[39;00m:\n\u001b[0;32m-> 2766\u001b[0m     \u001b[39mraise\u001b[39;00m SnowparkClientExceptionMessages\u001b[39m.\u001b[39mCANNOT_RESOLVE_COLUMN_NAME(\n\u001b[1;32m   2767\u001b[0m         col_name\n\u001b[1;32m   2768\u001b[0m     )\n",
      "\u001b[0;31mSnowparkColumnException\u001b[0m: (1105): The DataFrame does not contain the column named TOTAL_AMOUNT."
     ]
    }
   ],
   "source": [
    "customers_rename = {\"sum(amount)\": \"customer_lifetime_value\"}\n",
    "customers_rename = {\n",
    "    key.upper(): value.upper() for key, value in customers_rename.items()\n",
    "}\n",
    "\n",
    "# copilot actually wrote this line, minus the renaming (maybe would have if I'd added the dictionary?)\n",
    "customers = stg_customers.join(\n",
    "    customer_orders, stg_customers[\"customer_id\"] == customer_orders[\"customer_id\"]\n",
    ").join(\n",
    "    customer_payments, stg_customers[\"customer_id\"] == customer_payments[\"customer_id\"]\n",
    ")\n",
    "for col_name in customers_rename:\n",
    "    customers = customers.rename(customers[col_name], customers_rename[col_name])\n",
    "\n",
    "customers.show(5)"
   ]
  },
  {
   "cell_type": "code",
   "execution_count": null,
   "metadata": {},
   "outputs": [],
   "source": [
    "payment_methods = [\"credit_card\", \"coupon\", \"bank_transfer\", \"gift_card\"]\n",
    "\n",
    "order_payments_renames = {\n",
    "    f\"{payment_method}\": f\"{payment_method}_amount\"\n",
    "    for payment_method in payment_methods\n",
    "}\n",
    "\n",
    "order_payments_totals = stg_payments.groupby(\"order_id\").agg(\n",
    "    total_amount=(\"amount\", \"sum\")\n",
    ")\n",
    "\n",
    "order_payments = (\n",
    "    stg_payments.groupby([\"order_id\", \"payment_method\"])\n",
    "    .agg(payment_method_amount=(\"amount\", \"sum\"))\n",
    "    .reset_index()\n",
    "    .pivot(index=\"order_id\", columns=\"payment_method\", values=\"payment_method_amount\")\n",
    "    .rename(columns=order_payments_renames)\n",
    "    .merge(order_payments_totals, on=\"order_id\", how=\"left\")\n",
    "    .reset_index()\n",
    ")\n",
    "\n",
    "order_payments.show(5)"
   ]
  },
  {
   "cell_type": "code",
   "execution_count": null,
   "metadata": {},
   "outputs": [],
   "source": [
    "orders_renames = {\"total_amount\": \"amount\"}\n",
    "\n",
    "orders = stg_orders.merge(order_payments, on=\"order_id\", how=\"left\").rename(\n",
    "    columns=orders_renames\n",
    ")\n",
    "\n",
    "orders.show(5)"
   ]
  }
 ],
 "metadata": {
  "kernelspec": {
   "display_name": "Python 3.8.13 64-bit",
   "language": "python",
   "name": "python3"
  },
  "language_info": {
   "codemirror_mode": {
    "name": "ipython",
    "version": 3
   },
   "file_extension": ".py",
   "mimetype": "text/x-python",
   "name": "python",
   "nbconvert_exporter": "python",
   "pygments_lexer": "ipython3",
   "version": "3.8.13"
  },
  "orig_nbformat": 4,
  "vscode": {
   "interpreter": {
    "hash": "949777d72b0d2535278d3dc13498b2535136f6dfe0678499012e853ee9abcab1"
   }
  }
 },
 "nbformat": 4,
 "nbformat_minor": 2
}
