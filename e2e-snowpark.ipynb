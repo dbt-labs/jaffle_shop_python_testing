{
 "cells": [
  {
   "cell_type": "markdown",
   "metadata": {},
   "source": [
    "# End-to-end Snowpark jaffle_shop in Python\n",
    "\n",
    "For funsies."
   ]
  },
  {
   "cell_type": "markdown",
   "metadata": {},
   "source": [
    "## Imports"
   ]
  },
  {
   "cell_type": "code",
   "execution_count": null,
   "metadata": {},
   "outputs": [],
   "source": [
    "# tracking\n",
    "import mlflow\n",
    "\n",
    "# pydata/ml\n",
    "import sklearn as sklearn\n",
    "\n",
    "import numpy as np\n",
    "import pandas as pd\n",
    "import lightgbm as lgb\n",
    "\n",
    "from sklearn.decomposition import PCA\n",
    "from sklearn.model_selection import train_test_split\n",
    "\n",
    "# viz\n",
    "import seaborn as sns\n",
    "import matplotlib as mpl\n",
    "import matplotlib.pyplot as plt\n",
    "\n",
    "# snowflake\n",
    "import yaml\n",
    "import snowflake.snowpark\n",
    "\n",
    "from snowflake.snowpark import types\n",
    "from snowflake.snowpark import Session\n",
    "from snowflake.snowpark.functions import col, udf, sql_expr"
   ]
  },
  {
   "cell_type": "markdown",
   "metadata": {},
   "source": [
    "## Setup"
   ]
  },
  {
   "cell_type": "code",
   "execution_count": null,
   "metadata": {},
   "outputs": [],
   "source": [
    "# setup viz defaults\n",
    "sns.set_theme()\n",
    "sns.set(rc={\"figure.figsize\": (16, 18)})\n",
    "sns.set_style(\"darkgrid\")\n",
    "plt.style.use([\"dark_background\"])"
   ]
  },
  {
   "cell_type": "markdown",
   "metadata": {},
   "source": [
    "## Snowpark session"
   ]
  },
  {
   "cell_type": "code",
   "execution_count": null,
   "metadata": {},
   "outputs": [],
   "source": [
    "with open(\"/home/vscode/.dbt/profiles.yml\", \"r\") as f:\n",
    "    profiles = yaml.safe_load(f)\n",
    "    dev_profile = profiles[\"snowflake\"][\"outputs\"][\"dev\"]\n",
    "\n",
    "conn_params = {\n",
    "    \"account\": dev_profile[\"account\"],\n",
    "    \"user\": dev_profile[\"user\"],\n",
    "    \"role\": dev_profile[\"role\"],\n",
    "    \"warehouse\": dev_profile[\"warehouse\"],\n",
    "    \"database\": dev_profile[\"database\"],\n",
    "    \"schema\": dev_profile[\"schema\"],\n",
    "    \"authenticator\": dev_profile[\"authenticator\"],\n",
    "}\n",
    "conn_params"
   ]
  },
  {
   "cell_type": "code",
   "execution_count": null,
   "metadata": {},
   "outputs": [],
   "source": [
    "s = Session.builder.configs(conn_params).create()"
   ]
  },
  {
   "cell_type": "markdown",
   "metadata": {},
   "source": [
    "## Raw data (sources)"
   ]
  },
  {
   "cell_type": "code",
   "execution_count": null,
   "metadata": {},
   "outputs": [],
   "source": [
    "raw_customers = s.table(\"raw_customers\")\n",
    "raw_customers.show(5)"
   ]
  },
  {
   "cell_type": "code",
   "execution_count": null,
   "metadata": {},
   "outputs": [],
   "source": [
    "raw_orders = s.table(\"raw_orders\")\n",
    "raw_orders.show(5)"
   ]
  },
  {
   "cell_type": "code",
   "execution_count": null,
   "metadata": {},
   "outputs": [],
   "source": [
    "raw_payments = s.table(\"raw_payments\")\n",
    "raw_payments.show(5)"
   ]
  },
  {
   "cell_type": "markdown",
   "metadata": {},
   "source": [
    "## Staging data"
   ]
  },
  {
   "cell_type": "code",
   "execution_count": null,
   "metadata": {},
   "outputs": [],
   "source": [
    "customers_rename = {\"id\": \"customer_id\"}\n",
    "customers_rename = {\n",
    "    key.upper(): value.upper() for key, value in customers_rename.items()\n",
    "}  # snowpark\n",
    "\n",
    "# stg_customers = raw_customers.rename(customers_rename) # pandas\n",
    "\n",
    "# Option A\n",
    "# stg_customers = raw_customers.select(\n",
    "#     *[\n",
    "#         col(col_name).as_(customers_rename[col_name])\n",
    "#         if col_name in customers_rename\n",
    "#         else col_name\n",
    "#         for col_name in raw_customers.schema.names\n",
    "#     ]\n",
    "# )\n",
    "\n",
    "stg_customers = raw_customers.select(\"*\")\n",
    "for col_name in customers_rename:\n",
    "    stg_customers = stg_customers.rename(\n",
    "        stg_customers[col_name], customers_rename[col_name]\n",
    "    )\n",
    "\n",
    "stg_customers.show(5)"
   ]
  },
  {
   "cell_type": "code",
   "execution_count": null,
   "metadata": {},
   "outputs": [],
   "source": [
    "orders_rename = {\"id\": \"order_id\", \"user_id\": \"customer_id\"}\n",
    "orders_rename = {\n",
    "    key.upper(): value.upper() for key, value in orders_rename.items()\n",
    "}  # snowpark\n",
    "\n",
    "# stg_orders = raw_orders.rename(columns=orders_rename) # pandas\n",
    "# Option A\n",
    "# stg_orders = raw_orders.select(\n",
    "#     *[\n",
    "#         col(col_name).as_(orders_rename[col_name])\n",
    "#         if col_name in orders_rename\n",
    "#         else col_name\n",
    "#         for col_name in raw_orders.schema.names\n",
    "#     ]\n",
    "# )\n",
    "stg_orders = raw_orders.select(\"*\")\n",
    "for col_name in orders_rename:\n",
    "    stg_orders = stg_orders.rename(stg_orders[col_name], orders_rename[col_name])\n",
    "\n",
    "stg_orders.show(5)"
   ]
  },
  {
   "cell_type": "code",
   "execution_count": null,
   "metadata": {},
   "outputs": [],
   "source": [
    "payments_rename = {\"id\": \"payment_id\"}\n",
    "payments_rename = {\n",
    "    key.upper(): value.upper() for key, value in payments_rename.items()\n",
    "}  # snowpark\n",
    "\n",
    "# stg_payments = raw_payments.rename(columns=payments_rename) # pandas\n",
    "# stg_payments[\"amount\"] /= 100  # this makes cents into dollars\n",
    "\n",
    "stg_payments = raw_payments.select(\n",
    "    *[\n",
    "        col(col_name).as_(payments_rename[col_name])\n",
    "        if col_name in payments_rename\n",
    "        else col_name\n",
    "        for col_name in raw_payments.schema.names\n",
    "        if col_name != \"AMOUNT\"\n",
    "    ],\n",
    "    (raw_payments[\"amount\"] / 100).as_(\"amount\"),\n",
    ")\n",
    "\n",
    "stg_payments.show(5)"
   ]
  },
  {
   "cell_type": "markdown",
   "metadata": {},
   "source": [
    "## Final models"
   ]
  },
  {
   "cell_type": "code",
   "execution_count": null,
   "metadata": {},
   "outputs": [],
   "source": [
    "# pandas\n",
    "# customer_orders = (\n",
    "#     stg_orders.groupby(\"customer_id\")\n",
    "#     .agg(\n",
    "#         first_order=(\"order_date\", \"min\"),\n",
    "#         most_recent_order=(\"order_date\", \"max\"),\n",
    "#         number_of_orders=(\"order_id\", \"count\"),\n",
    "#     )\n",
    "#     .reset_index()\n",
    "# )\n",
    "\n",
    "customer_orders = stg_orders.group_by(\"customer_id\").agg(\n",
    "    [\n",
    "        (stg_orders[\"order_date\"], \"min\"),\n",
    "        (stg_orders[\"order_date\"], \"max\"),\n",
    "        (stg_orders[\"order_id\"], \"count\"),\n",
    "    ]\n",
    ")\n",
    "\n",
    "customer_orders.show(5)"
   ]
  },
  {
   "cell_type": "code",
   "execution_count": null,
   "metadata": {},
   "outputs": [],
   "source": [
    "stg_orders.show(5)"
   ]
  },
  {
   "cell_type": "code",
   "execution_count": null,
   "metadata": {},
   "outputs": [],
   "source": [
    "# pandas\n",
    "# customer_payments = (\n",
    "#     stg_payments.merge(stg_orders, on=\"order_id\", how=\"left\")\n",
    "#     .groupby(\"customer_id\")\n",
    "#     .agg(stg_orders[\"amount\"], \"sum\")\n",
    "# )\n",
    "customer_payments = (\n",
    "    stg_payments.join(stg_orders, using_columns=[\"order_id\"], join_type=\"left\")\n",
    "    .group_by(\"customer_id\")\n",
    "    .agg(\n",
    "        [\n",
    "            (stg_payments[\"amount\"], \"sum\"),\n",
    "        ]\n",
    "    )\n",
    ")\n",
    "\n",
    "customer_payments.show(5)"
   ]
  },
  {
   "cell_type": "code",
   "execution_count": null,
   "metadata": {},
   "outputs": [],
   "source": [
    "customers_rename = {\"total_amount\": \"customer_lifetime_value\"}\n",
    "\n",
    "# copilot actually wrote this line, minus the renaming (maybe would have if I'd added the dictionary?)\n",
    "customers = (\n",
    "    stg_customers.merge(customer_orders, on=\"customer_id\", how=\"left\")\n",
    "    .merge(customer_payments, on=\"customer_id\", how=\"left\")\n",
    "    .rename(columns=customers_rename)\n",
    ")\n",
    "\n",
    "customers.show(5)"
   ]
  },
  {
   "cell_type": "code",
   "execution_count": null,
   "metadata": {},
   "outputs": [],
   "source": [
    "payment_methods = [\"credit_card\", \"coupon\", \"bank_transfer\", \"gift_card\"]\n",
    "\n",
    "order_payments_renames = {\n",
    "    f\"{payment_method}\": f\"{payment_method}_amount\"\n",
    "    for payment_method in payment_methods\n",
    "}\n",
    "\n",
    "order_payments_totals = stg_payments.groupby(\"order_id\").agg(\n",
    "    total_amount=(\"amount\", \"sum\")\n",
    ")\n",
    "\n",
    "order_payments = (\n",
    "    stg_payments.groupby([\"order_id\", \"payment_method\"])\n",
    "    .agg(payment_method_amount=(\"amount\", \"sum\"))\n",
    "    .reset_index()\n",
    "    .pivot(index=\"order_id\", columns=\"payment_method\", values=\"payment_method_amount\")\n",
    "    .rename(columns=order_payments_renames)\n",
    "    .merge(order_payments_totals, on=\"order_id\", how=\"left\")\n",
    "    .reset_index()\n",
    ")\n",
    "\n",
    "order_payments.show(5)"
   ]
  },
  {
   "cell_type": "code",
   "execution_count": null,
   "metadata": {},
   "outputs": [],
   "source": [
    "orders_renames = {\"total_amount\": \"amount\"}\n",
    "\n",
    "orders = stg_orders.merge(order_payments, on=\"order_id\", how=\"left\").rename(\n",
    "    columns=orders_renames\n",
    ")\n",
    "\n",
    "orders.show(5)"
   ]
  }
 ],
 "metadata": {
  "kernelspec": {
   "display_name": "Python 3.8.13 64-bit",
   "language": "python",
   "name": "python3"
  },
  "language_info": {
   "codemirror_mode": {
    "name": "ipython",
    "version": 3
   },
   "file_extension": ".py",
   "mimetype": "text/x-python",
   "name": "python",
   "nbconvert_exporter": "python",
   "pygments_lexer": "ipython3",
   "version": "3.8.13"
  },
  "orig_nbformat": 4,
  "vscode": {
   "interpreter": {
    "hash": "949777d72b0d2535278d3dc13498b2535136f6dfe0678499012e853ee9abcab1"
   }
  }
 },
 "nbformat": 4,
 "nbformat_minor": 2
}
