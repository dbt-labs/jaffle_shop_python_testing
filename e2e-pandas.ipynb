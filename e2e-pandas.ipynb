{
 "cells": [
  {
   "cell_type": "markdown",
   "metadata": {},
   "source": [
    "# End-to-end local jaffle_shop in Python\n",
    "\n",
    "For funsies."
   ]
  },
  {
   "cell_type": "markdown",
   "metadata": {},
   "source": [
    "## Imports"
   ]
  },
  {
   "cell_type": "code",
   "execution_count": null,
   "metadata": {},
   "outputs": [],
   "source": [
    "# tracking\n",
    "import mlflow\n",
    "\n",
    "# pydata/ml\n",
    "import sklearn as sklearn\n",
    "\n",
    "import numpy as np\n",
    "import pandas as pd\n",
    "import lightgbm as lgb\n",
    "\n",
    "from sklearn.decomposition import PCA\n",
    "from sklearn.model_selection import train_test_split\n",
    "\n",
    "# viz\n",
    "import seaborn as sns\n",
    "import matplotlib as mpl\n",
    "import matplotlib.pyplot as plt\n",
    "\n",
    "# snowflake\n",
    "import yaml\n",
    "import snowflake.snowpark\n",
    "\n",
    "from snowflake.snowpark import types\n",
    "from snowflake.snowpark import Session\n",
    "from snowflake.snowpark.functions import col, udf, sql_expr"
   ]
  },
  {
   "cell_type": "markdown",
   "metadata": {},
   "source": [
    "## Setup"
   ]
  },
  {
   "cell_type": "code",
   "execution_count": null,
   "metadata": {},
   "outputs": [],
   "source": [
    "# setup viz defaults\n",
    "sns.set_theme()\n",
    "sns.set(rc={\"figure.figsize\": (16, 18)})\n",
    "sns.set_style(\"darkgrid\")\n",
    "plt.style.use([\"dark_background\"])"
   ]
  },
  {
   "cell_type": "markdown",
   "metadata": {},
   "source": [
    "## Raw data (sources)"
   ]
  },
  {
   "cell_type": "code",
   "execution_count": null,
   "metadata": {},
   "outputs": [],
   "source": [
    "raw_customers = pd.read_csv(\"seeds/raw_customers.csv\")\n",
    "raw_customers.head()"
   ]
  },
  {
   "cell_type": "code",
   "execution_count": null,
   "metadata": {},
   "outputs": [],
   "source": [
    "raw_orders = pd.read_csv(\"seeds/raw_orders.csv\")\n",
    "raw_orders.head()"
   ]
  },
  {
   "cell_type": "code",
   "execution_count": null,
   "metadata": {},
   "outputs": [],
   "source": [
    "raw_payments = pd.read_csv(\"seeds/raw_payments.csv\")\n",
    "raw_payments.head()"
   ]
  },
  {
   "cell_type": "markdown",
   "metadata": {},
   "source": [
    "## Staging data"
   ]
  },
  {
   "cell_type": "code",
   "execution_count": null,
   "metadata": {},
   "outputs": [],
   "source": [
    "customers_rename = {\"id\": \"customer_id\"}\n",
    "\n",
    "stg_customers = raw_customers.rename(columns=customers_rename)\n",
    "stg_customers.head()"
   ]
  },
  {
   "cell_type": "code",
   "execution_count": null,
   "metadata": {},
   "outputs": [],
   "source": [
    "orders_rename = {\"id\": \"order_id\", \"user_id\": \"customer_id\"}\n",
    "\n",
    "stg_orders = raw_orders.rename(columns=orders_rename)\n",
    "stg_orders.head()"
   ]
  },
  {
   "cell_type": "code",
   "execution_count": null,
   "metadata": {},
   "outputs": [],
   "source": [
    "payments_rename = {\"id\": \"payment_id\"}\n",
    "\n",
    "stg_payments = raw_payments.rename(columns=payments_rename)\n",
    "stg_payments[\"amount\"] /= 100  # this makes cents into dollars\n",
    "\n",
    "stg_payments.head()"
   ]
  },
  {
   "cell_type": "markdown",
   "metadata": {},
   "source": [
    "## Final models"
   ]
  },
  {
   "cell_type": "code",
   "execution_count": null,
   "metadata": {},
   "outputs": [],
   "source": [
    "# copilot sorta helped...\n",
    "customer_orders = (\n",
    "    stg_orders.groupby(\"customer_id\")\n",
    "    .agg(\n",
    "        first_order=(\"order_date\", \"min\"),\n",
    "        most_recent_order=(\"order_date\", \"max\"),\n",
    "        number_of_orders=(\"order_id\", \"count\"),\n",
    "    )\n",
    "    .reset_index()\n",
    ")\n",
    "\n",
    "customer_orders.head()"
   ]
  },
  {
   "cell_type": "code",
   "execution_count": null,
   "metadata": {},
   "outputs": [],
   "source": [
    "customer_payments = (\n",
    "    stg_payments.merge(stg_orders, on=\"order_id\", how=\"left\")\n",
    "    .groupby(\"customer_id\")\n",
    "    .agg(total_amount=(\"amount\", \"sum\"))\n",
    "    .reset_index()\n",
    ")\n",
    "\n",
    "customer_payments.head()"
   ]
  },
  {
   "cell_type": "code",
   "execution_count": null,
   "metadata": {},
   "outputs": [],
   "source": [
    "customers_rename = {\"total_amount\": \"customer_lifetime_value\"}\n",
    "\n",
    "# copilot actually wrote this line, minus the renaming (maybe would have if I'd added the dictionary?)\n",
    "customers = (\n",
    "    stg_customers.merge(customer_orders, on=\"customer_id\", how=\"left\")\n",
    "    .merge(customer_payments, on=\"customer_id\", how=\"left\")\n",
    "    .rename(columns=customers_rename)\n",
    ")\n",
    "\n",
    "customers.head()"
   ]
  },
  {
   "cell_type": "code",
   "execution_count": null,
   "metadata": {},
   "outputs": [],
   "source": [
    "payment_methods = [\"credit_card\", \"coupon\", \"bank_transfer\", \"gift_card\"]\n",
    "\n",
    "order_payments_renames = {\n",
    "    f\"{payment_method}\": f\"{payment_method}_amount\"\n",
    "    for payment_method in payment_methods\n",
    "}\n",
    "\n",
    "order_payments_totals = stg_payments.groupby(\"order_id\").agg(\n",
    "    total_amount=(\"amount\", \"sum\")\n",
    ")\n",
    "\n",
    "order_payments = (\n",
    "    stg_payments.groupby([\"order_id\", \"payment_method\"])\n",
    "    .agg(payment_method_amount=(\"amount\", \"sum\"))\n",
    "    .reset_index()\n",
    "    .pivot(index=\"order_id\", columns=\"payment_method\", values=\"payment_method_amount\")\n",
    "    .rename(columns=order_payments_renames)\n",
    "    .merge(order_payments_totals, on=\"order_id\", how=\"left\")\n",
    "    .reset_index()\n",
    ")\n",
    "\n",
    "order_payments.head()"
   ]
  },
  {
   "cell_type": "code",
   "execution_count": null,
   "metadata": {},
   "outputs": [],
   "source": [
    "orders_renames = {\"total_amount\": \"amount\"}\n",
    "\n",
    "orders = stg_orders.merge(order_payments, on=\"order_id\", how=\"left\").rename(\n",
    "    columns=orders_renames\n",
    ")\n",
    "\n",
    "orders.head()"
   ]
  },
  {
   "cell_type": "code",
   "execution_count": null,
   "metadata": {},
   "outputs": [],
   "source": []
  }
 ],
 "metadata": {
  "kernelspec": {
   "display_name": "Python 3.8.13 64-bit",
   "language": "python",
   "name": "python3"
  },
  "language_info": {
   "codemirror_mode": {
    "name": "ipython",
    "version": 3
   },
   "file_extension": ".py",
   "mimetype": "text/x-python",
   "name": "python",
   "nbconvert_exporter": "python",
   "pygments_lexer": "ipython3",
   "version": "3.8.13"
  },
  "orig_nbformat": 4,
  "vscode": {
   "interpreter": {
    "hash": "949777d72b0d2535278d3dc13498b2535136f6dfe0678499012e853ee9abcab1"
   }
  }
 },
 "nbformat": 4,
 "nbformat_minor": 2
}
