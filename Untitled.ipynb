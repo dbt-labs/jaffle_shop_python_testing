{
 "cells": [
  {
   "cell_type": "code",
   "execution_count": null,
   "metadata": {},
   "outputs": [],
   "source": [
    "# tracking\n",
    "import mlflow\n",
    "\n",
    "# pydata/ml\n",
    "import sklearn as sklearn\n",
    "\n",
    "import numpy as np\n",
    "import pandas as pd\n",
    "import lightgbm as lgb\n",
    "\n",
    "from sklearn.decomposition import PCA\n",
    "from sklearn.model_selection import train_test_split\n",
    "\n",
    "# viz\n",
    "import seaborn as sns\n",
    "import matplotlib as mpl\n",
    "import matplotlib.pyplot as plt\n",
    "\n",
    "# snowflake\n",
    "import yaml\n",
    "import snowflake.snowpark\n",
    "\n",
    "from snowflake.snowpark import types\n",
    "from snowflake.snowpark import Session\n",
    "from snowflake.snowpark.functions import col, udf, sql_expr"
   ]
  },
  {
   "cell_type": "code",
   "execution_count": null,
   "metadata": {},
   "outputs": [],
   "source": [
    "# setup viz defaults\n",
    "sns.set_theme()\n",
    "sns.set(rc={\"figure.figsize\": (16, 18)})\n",
    "sns.set_style(\"darkgrid\")\n",
    "plt.style.use([\"dark_background\"])"
   ]
  },
  {
   "cell_type": "code",
   "execution_count": null,
   "metadata": {},
   "outputs": [],
   "source": [
    "with open(\"/home/vscode/.dbt/profiles.yml\", \"r\") as f:\n",
    "    profiles = yaml.safe_load(f)\n",
    "    dev_profile = profiles[\"snowflake\"][\"outputs\"][\"dev\"]\n",
    "\n",
    "conn_params = {\n",
    "    \"account\": dev_profile[\"account\"],\n",
    "    \"user\": dev_profile[\"user\"],\n",
    "    \"role\": dev_profile[\"role\"],\n",
    "    \"warehouse\": dev_profile[\"warehouse\"],\n",
    "    \"database\": dev_profile[\"database\"],\n",
    "    \"schema\": dev_profile[\"schema\"],\n",
    "    \"authenticator\": dev_profile[\"authenticator\"],\n",
    "}\n",
    "conn_params"
   ]
  },
  {
   "cell_type": "code",
   "execution_count": null,
   "metadata": {},
   "outputs": [],
   "source": [
    "s = Session.builder.configs(conn_params).create()"
   ]
  },
  {
   "cell_type": "code",
   "execution_count": null,
   "metadata": {},
   "outputs": [],
   "source": [
    "%%time\n",
    "\n",
    "model = \"raw_customers\"\n",
    "\n",
    "df = s.table(model)\n",
    "\n",
    "df.show(5)"
   ]
  },
  {
   "cell_type": "code",
   "execution_count": null,
   "metadata": {},
   "outputs": [],
   "source": [
    "import logging\n",
    "\n",
    "for logger_name in (\"snowflake.snowpark\", \"snowflake.connector\"):\n",
    "    logger = logging.getLogger(logger_name)\n",
    "    logger.setLevel(logging.DEBUG)\n",
    "    ch = logging.StreamHandler()\n",
    "    ch.setLevel(logging.DEBUG)\n",
    "    ch.setFormatter(\n",
    "        logging.Formatter(\n",
    "            \"%(asctime)s - %(threadName)s %(filename)s:%(lineno)d - %(funcName)s() - %(levelname)s - %(message)s\"\n",
    "        )\n",
    "    )\n",
    "    logger.addHandler(ch)\n",
    "\n",
    "df.to_pandas()"
   ]
  },
  {
   "cell_type": "code",
   "execution_count": null,
   "metadata": {},
   "outputs": [],
   "source": []
  },
  {
   "cell_type": "code",
   "execution_count": null,
   "metadata": {},
   "outputs": [],
   "source": []
  },
  {
   "cell_type": "code",
   "execution_count": null,
   "metadata": {},
   "outputs": [],
   "source": []
  },
  {
   "cell_type": "code",
   "execution_count": null,
   "metadata": {},
   "outputs": [],
   "source": []
  },
  {
   "cell_type": "code",
   "execution_count": null,
   "metadata": {},
   "outputs": [],
   "source": []
  },
  {
   "cell_type": "code",
   "execution_count": null,
   "metadata": {},
   "outputs": [],
   "source": [
    "%%time\n",
    "\n",
    "model = \"customers\"\n",
    "\n",
    "df = s.table(model)\n",
    "df"
   ]
  },
  {
   "cell_type": "code",
   "execution_count": null,
   "metadata": {},
   "outputs": [],
   "source": [
    "df.show()"
   ]
  },
  {
   "cell_type": "code",
   "execution_count": null,
   "metadata": {},
   "outputs": [],
   "source": [
    "# dare to dance with the devil?\n",
    "# df = df.toPandas()\n",
    "# df = df.to_pandas()"
   ]
  }
 ],
 "metadata": {
  "kernelspec": {
   "display_name": "Python 3.8.13 64-bit",
   "language": "python",
   "name": "python3"
  },
  "language_info": {
   "codemirror_mode": {
    "name": "ipython",
    "version": 3
   },
   "file_extension": ".py",
   "mimetype": "text/x-python",
   "name": "python",
   "nbconvert_exporter": "python",
   "pygments_lexer": "ipython3",
   "version": "3.8.13"
  },
  "orig_nbformat": 4,
  "vscode": {
   "interpreter": {
    "hash": "949777d72b0d2535278d3dc13498b2535136f6dfe0678499012e853ee9abcab1"
   }
  }
 },
 "nbformat": 4,
 "nbformat_minor": 2
}
